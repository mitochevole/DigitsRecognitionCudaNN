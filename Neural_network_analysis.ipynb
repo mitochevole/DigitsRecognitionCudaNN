{
 "cells": [
  {
   "cell_type": "code",
   "execution_count": 1,
   "metadata": {
    "collapsed": true
   },
   "outputs": [],
   "source": [
    "import numpy as np\n",
    "import matplotlib.pylab as plt\n",
    "import os, glob, math, sys, subprocess\n"
   ]
  },
  {
   "cell_type": "code",
   "execution_count": 80,
   "metadata": {},
   "outputs": [],
   "source": [
    "# dictionary with input parameters to feed to c++ executable\n",
    "\n",
    "pars = {\n",
    "'executable' : \"./neural_network\",\n",
    "'train_size' : 1000,\n",
    "'batch_size' : 10,\n",
    "'epochs' : 30,\n",
    "'Lambda' : 10.0,\n",
    "'eta' : 0.5,\n",
    "'monitor_cost' : 0,\n",
    "'print_cost' : 1,\n",
    "'verbose' : 0,\n",
    "'monitor_accuracy' : 0, \n",
    "'print_accuracy' : 1,\n",
    "'train_label_output' : \"prova\",\n",
    "'Layers': [784,30,10] ,\n",
    "'train' : 1,\n",
    "'save_weights' : 0,\n",
    "'load_weights' : 0,\n",
    "'test_NN' : 1,\n",
    "'cross_validate' : 1,\n",
    "'test_size' :1000,\n",
    "'test_label_output' : 'output_prova.txt'\n",
    "}\n"
   ]
  },
  {
   "cell_type": "code",
   "execution_count": 81,
   "metadata": {},
   "outputs": [],
   "source": [
    "# transforming the dictionary in a list and each element in the list into a string\n",
    "def convert_pars():\n",
    "    par_list =[]\n",
    "    par_list.append(pars['executable'])\n",
    "    par_list.append(pars['train_size'])\n",
    "    par_list.append(pars['batch_size'])\n",
    "    par_list.append(pars['epochs'])\n",
    "    par_list.append(pars['Lambda'])\n",
    "    par_list.append(pars['eta'])\n",
    "    par_list.append(pars['monitor_cost'])\n",
    "    par_list.append(pars['print_cost'])\n",
    "    par_list.append(pars['verbose'])\n",
    "    par_list.append(pars['monitor_accuracy'])\n",
    "    par_list.append(pars['print_accuracy'])\n",
    "    par_list.append(pars['train_label_output'])\n",
    "    par_list.append(len(pars['Layers']))\n",
    "    [par_list.append(x) for x in pars['Layers']]\n",
    "    par_list.append(pars['train'])\n",
    "    par_list.append(pars['save_weights'])\n",
    "    par_list.append(pars['load_weights'])\n",
    "    par_list.append(pars['test_NN'])\n",
    "    par_list.append(pars['cross_validate'])\n",
    "    par_list.append(pars['test_size'])\n",
    "    par_list.append(pars['test_label_output'])\n",
    "    return [str(x) for x in par_list]"
   ]
  },
  {
   "cell_type": "code",
   "execution_count": 45,
   "metadata": {},
   "outputs": [
    {
     "data": {
      "text/plain": [
       "0"
      ]
     },
     "execution_count": 45,
     "metadata": {},
     "output_type": "execute_result"
    }
   ],
   "source": [
    "# calling the execution of neural_network, this is a first try\n",
    "subprocess.call(final_list)"
   ]
  },
  {
   "cell_type": "code",
   "execution_count": 82,
   "metadata": {},
   "outputs": [],
   "source": [
    "for size in range(100,1100,100):\n",
    "    pars['train_size'] = size\n",
    "    pars['train_label_output'] = '{:04}'.format(size)\n",
    "    par_list = convert_pars()\n",
    "    subprocess.call(par_list)"
   ]
  },
  {
   "cell_type": "code",
   "execution_count": 86,
   "metadata": {
    "scrolled": true
   },
   "outputs": [
    {
     "data": {
      "image/png": "[encoded data removed]",
      "text/plain": [
       "<matplotlib.figure.Figure at 0x7ff3f767a690>"
      ]
     },
     "metadata": {},
     "output_type": "display_data"
    }
   ],
   "source": [
    "fig, ax =plt.subplots(2,1, sharex = True)\n",
    "a,c = np.genfromtxt(pars['test_label_output'],unpack=True)\n",
    "ax[0].plot(range(100,1100,100), a, label = 'test accuracy')\n",
    "ax[1].plot(range(100,1100,100),c, label = 'test cost')\n",
    "\n",
    "train_a = []\n",
    "train_c = []\n",
    "for size in range(100,1100,100):\n",
    "    e,a,c = np.genfromtxt(\"train_output_{:04d}\".format(size), unpack = True)\n",
    "    train_a.append(a[-1])\n",
    "    train_c.append(c[-1])\n",
    "ax[0].plot(range(100,1100,100), train_a, label = 'train accuracy')\n",
    "ax[1].plot(range(100,1100,100),train_c,  label = 'train cost')\n",
    "[x.legend(loc='best') for x in ax]\n",
    "ax[1].set_xlabel('train set size')\n",
    "plt.title('learning curve for $\\lambda$ = 0  and 400 epochs')\n",
    "plt.show()"
   ]
  },
  {
   "cell_type": "code",
   "execution_count": null,
   "metadata": {
    "collapsed": true
   },
   "outputs": [],
   "source": []
  }
 ],
 "metadata": {
  "anaconda-cloud": {},
  "kernelspec": {
   "display_name": "Python [conda env:anaconda2]",
   "language": "python",
   "name": "conda-env-anaconda2-py"
  },
  "language_info": {
   "codemirror_mode": {
    "name": "ipython",
    "version": 2
   },
   "file_extension": ".py",
   "mimetype": "text/x-python",
   "name": "python",
   "nbconvert_exporter": "python",
   "pygments_lexer": "ipython2",
   "version": "2.7.14"
  }
 },
 "nbformat": 4,
 "nbformat_minor": 2
}
